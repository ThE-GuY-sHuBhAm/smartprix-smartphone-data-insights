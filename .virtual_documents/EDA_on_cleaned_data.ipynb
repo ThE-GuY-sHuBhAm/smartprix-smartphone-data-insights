import numpy as np
import pandas as pd
import matplotlib.pyplot as plt
import seaborn as sns


pd.set_option('display.max_columns',None)
pd.set_option('display.max_rows',None)


df = pd.read_excel('cleaned__smartphone_data.xlsx')


df.head()


df.describe()


df.info()


# plot a graph of top 10 brands
df['brand_name'].value_counts().head(10).plot(kind='bar')


# pie chart
df['brand_name'].value_counts().plot(kind='pie',autopct='%0.1f%%',figsize=(8,8))


df['brand_name'].isnull().sum()


# model
df['model'].nunique()


# price
df['price'].describe()


sns.displot(kind='hist',data=df,x='price',kde=True)


df['price'].skew()


sns.boxplot(df['price'])





df['rating'].describe()


df['rating'].skew()


sns.boxplot(df['rating'])


df['rating'].isna().sum()


#has5g
df['has_5g'].value_counts().plot(kind='pie',autopct='%0.1f%%')


#hasnfc
df['has_nfc'].value_counts().plot(kind='pie',autopct='%0.1f%%')


#has_ir_blaster
df['has_ir_blaster'].value_counts().plot(kind='pie',autopct='%0.1f%%')


df[df['has_ir_blaster']==True]['brand_name'].value_counts()


df['processor_brand'].value_counts().plot(kind='pie',autopct='%0.1f%%',figsize=(6,6))


df['num_cores'].value_counts().plot(kind='pie',autopct='%0.1f%%',figsize=(6,6))


df['fast_charging_available'].value_counts().plot(kind='pie',autopct='%0.1f%%',figsize=(6,6))


df['ram_capacity'].value_counts().plot(kind='pie',autopct='%0.1f%%',figsize=(6,6))


df['internal_memory'].value_counts().plot(kind='pie',autopct='%0.1f%%',figsize=(6,6))


df['refresh_rate'].value_counts().plot(kind='pie',autopct='%0.1f%%',figsize=(6,6))


df['refresh_rate'].value_counts()


df['num_front_camera'] = (df['num_front_camera'].replace("Missing", np.nan).astype("Int64")                 )


(df['num_rear_cameras']+df['num_front_camera']).value_counts().plot(kind='pie',autopct='%0.1f%%')


df['os'].value_counts().plot(kind='pie',autopct='%0.1f%%')


 df['extended_memory'].value_counts().plot(kind='pie',autopct='%0.1f%%')


df['screen_size'].plot(kind='box')


def plot_graphs(column_name):
  sns.displot(kind='hist',kde=True,data=df,x=column_name,label=column_name)
  sns.catplot(kind='box',data=df,x=column_name)


num_columns = df.iloc[:, [3,4,6,9,13,14,16]].select_dtypes(include=['float64','int64']).columns


#for col in num_columns:
  #plot_graphs(col)

for col in num_columns:
    g = sns.FacetGrid(df, col="brand_name", col_wrap=4, height=3, sharex=False, sharey=False)
    g.map_dataframe(sns.histplot, x=col, kde=True)
    g.set_titles("{col_name}")
    g.fig.suptitle(f"Distribution of {col} by Brand", y=1.05)
    plt.show()


# Dictionary for better readability
pretty_labels = {
    "brand_name": "Brand",
    "model": "Model",
    "price": "Price (INR)",
    "rating": "Customer Rating",
    "has_5g": "5G Support",
    "has_nfc": "NFC Support",
    "has_ir_blaster": "IR Blaster",
    "processor_brand": "Processor Brand",
    "num_cores": "CPU Cores",
    "processor_speed": "Processor Speed (GHz)",
    "ram_capacity": "RAM (GB)",
    "internal_memory": "Internal Storage (GB)",
    "battery_capacity": "Battery (mAh)",
    "fast_charging_available": "Fast Charging Available",
    "fast_charging": "Fast Charging Power (W)",
    "screen_size": "Screen Size (inches)",
    "resolution": "Resolution",
    "refresh_rate": "Refresh Rate (Hz)",
    "num_rear_cameras": "Rear Cameras (count)",
    "num_front_camera": "Front Cameras (count)",
    "primary_camera_rear": "Primary Rear Camera (MP)",
    "primary_camera_front": "Primary Front Camera (MP)",
    "memory_card_supported": "Memory Card Support",
    "extended_memory": "Extended Memory (GB)",
    "os": "Operating System"
}


def plot_graphs(column_name):
    label = pretty_labels.get(column_name, column_name)  # fallback to original
    # Histogram with FacetGrid
    g = sns.displot(df, x=column_name, kde=True, height=4, aspect=1.3)
    g.set_axis_labels(label, "Count")
    g.fig.suptitle(f"Distribution of {label}", fontsize=14)
    plt.tight_layout()

    # Boxplot with brand as hue 
    g2 = sns.catplot(data=df, x="brand_name", y=column_name, kind="box", height=5, aspect=1.5)
    g2.set_axis_labels("Brand", label)
    g2.fig.suptitle(f"Boxplot of {label} by Brand", fontsize=14)
    plt.xticks(rotation=45)
    plt.tight_layout()

# Numeric columns to plot
num_columns = df.iloc[:, [3,4,6,9,13,14,16]].select_dtypes(include=['float64','int64']).columns

for col in num_columns:
    plot_graphs(col)



df.head()


plt.figure(figsize=(20,10))
sns.barplot(data=df,x='brand_name',y='price')
plt.xticks(rotation='vertical')


x = df.groupby('brand_name').count()['model'] 


temp_df = df[df['brand_name'].isin(x[x > 10].index)]


plt.figure(figsize=(15,8))
sns.barplot(data=temp_df,x='brand_name',y='price')
plt.xticks(rotation='vertical')


df.head()


sns.scatterplot(data=df,x='rating',y='price')


sns.barplot(data=temp_df,x='has_5g',y='price',estimator=np.median)


sns.pointplot(data=temp_df,x='has_nfc',y='price',estimator=np.median)


sns.barplot(data=temp_df,x='has_ir_blaster',y='price',estimator=np.median)


sns.barplot(data=temp_df,x='processor_brand',y='price',estimator=np.median)
plt.xticks(rotation='vertical')


sns.barplot(data=temp_df,x='num_cores',y='price',estimator=np.median)
plt.xticks(rotation='vertical')


pd.crosstab(df['num_cores'],df['os'])


sns.scatterplot(data=df,x='processor_speed',y='price')


sns.scatterplot(data=df,x='screen_size',y='price')


corr_price = df.select_dtypes(include=['number']).corr()['price'].sort_values(ascending=False)

print(corr_price)


df.isnull().sum()


corr_price = df.select_dtypes(include=['number']).corr()['rating'].sort_values(ascending=False)

print(corr_price)





df.shape


x_df = df.select_dtypes(include=['int64','float64']).drop(columns='price')


from sklearn.impute import KNNImputer


imputer = KNNImputer(n_neighbors=5)


x_df_values = imputer.fit_transform(x_df)
x_df = pd.DataFrame(x_df_values,columns=x_df.columns)
x_df['price'] = df['price']


x_df.head()


a = x_df.corr()['price'].reset_index()


b = df.select_dtypes(include=['number']).corr()['price'].reset_index()


b.merge(a,on='index')


df_corr = df.drop(columns=['model_name', 'phone_name'], errors='ignore')

df_corr = pd.get_dummies(df_corr, columns=['brand_name', 'processor_brand', 'os'], drop_first=True)

correlation_with_price = df_corr.corr(numeric_only=True)['price'].sort_values(ascending=False)

print(correlation_with_price)



x_df.shape


sns.histplot(df['price'], kde=True)
plt.show()




